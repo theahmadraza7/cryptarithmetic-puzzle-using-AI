{
 "cells": [
  {
   "cell_type": "markdown",
   "metadata": {},
   "source": [
    "                       Ahmad Raza\n",
    "                       21i-1714\n",
    "                       DS-U\n",
    "                       Artifical Intelligence\n",
    "                       Assignment # 1 "
   ]
  },
  {
   "cell_type": "markdown",
   "metadata": {},
   "source": [
    "                                Cryptarithmetic Puzzle"
   ]
  },
  {
   "cell_type": "markdown",
   "metadata": {},
   "source": [
    "Algorithm #1 (Brute force algorithm)"
   ]
  },
  {
   "cell_type": "code",
   "execution_count": 1,
   "metadata": {},
   "outputs": [],
   "source": [
    "# Function to solve the puzzle using brute force algorithm\n",
    "def solve_puzzle_brute_force(puzzle):\n",
    "    letters = ''.join(set(filter(str.isalpha, puzzle)))  # Extract unique letters from the puzzle\n",
    "    if len(letters) > 10:  # Check if there are more than 10 unique letters\n",
    "        return None\n",
    "\n",
    "    digit_list = list(range(10))  # Create a list of digits from 0 to 9\n",
    "    for perm in get_permutations(digit_list, len(letters)):\n",
    "        assignment = dict(zip(letters, perm))  # Create a dictionary mapping letters to digits\n",
    "        \n",
    "        # Check if the assignment satisfies the constraint that no leading digit is 0\n",
    "        if not all(assignment[word[0]] != 0 for word in puzzle.split() if word.isalpha()):\n",
    "            continue\n",
    "        \n",
    "        if eval_puzzle(puzzle, assignment):  # Check if the assignment satisfies the puzzle\n",
    "            return assignment  # Return the assignment if it satisfies the puzzle\n",
    "    return None  # Return None if no solution is found"
   ]
  },
  {
   "cell_type": "code",
   "execution_count": 2,
   "metadata": {},
   "outputs": [],
   "source": [
    "# Function to generate all permutations of a given size\n",
    "def get_permutations(arr, size):\n",
    "    # Base case: if size is 0, return an empty list containing an empty list\n",
    "    if size == 0:\n",
    "        return [[]]\n",
    "    permutations = []\n",
    "    for i in range(len(arr)):\n",
    "        m = arr[i]\n",
    "        remaining = arr[:i] + arr[i+1:]  # Exclude the current element from the remaining list\n",
    "        # Recursively generate permutations for the remaining elements\n",
    "        for p in get_permutations(remaining, size-1):\n",
    "            permutations.append([m] + p)  # Add the current element to each permutation\n",
    "    return permutations"
   ]
  },
  {
   "cell_type": "code",
   "execution_count": 3,
   "metadata": {},
   "outputs": [],
   "source": [
    "# Placeholder function for promising condition\n",
    "def is_promising(letter, digit, solution, puzzle, constraints):\n",
    "    return True"
   ]
  },
  {
   "cell_type": "markdown",
   "metadata": {},
   "source": [
    "Algorithm # 2 (Constraint Satisfaction Problem)"
   ]
  },
  {
   "cell_type": "code",
   "execution_count": 4,
   "metadata": {},
   "outputs": [],
   "source": [
    "# Function to calculate constraints based on the puzzle\n",
    "def calculate_constraints(puzzle):\n",
    "    constraints = {}\n",
    "    for letter in set(puzzle):\n",
    "        if letter.isalpha():\n",
    "            constraints[letter] = 0  # Initialize all letters with zero constraint (for simplicity)\n",
    "    return constraints"
   ]
  },
  {
   "cell_type": "code",
   "execution_count": 5,
   "metadata": {},
   "outputs": [],
   "source": [
    "# Function to calculate heuristic value for A* algorithm\n",
    "def calculate_heuristic(puzzle, solution):\n",
    "    translated_puzzle = puzzle\n",
    "    for letter, digit in solution.items():\n",
    "        translated_puzzle = translated_puzzle.replace(letter, str(digit))\n",
    "    \n",
    "    lhs, rhs = translated_puzzle.split(\"==\")\n",
    "    \n",
    "    try:\n",
    "        lhs_eval = eval(lhs)\n",
    "        rhs_eval = eval(rhs)\n",
    "        return abs(lhs_eval - rhs_eval)\n",
    "    except (SyntaxError, ValueError, NameError):\n",
    "        return float('inf')  # Return infinity for invalid expressions\n"
   ]
  },
  {
   "cell_type": "code",
   "execution_count": 6,
   "metadata": {},
   "outputs": [],
   "source": [
    "# Function to solve the puzzle using Constraint Satisfaction Problem (CSP)\n",
    "def solve_puzzle_csp(puzzle):\n",
    "    letters = ''.join(set(filter(str.isalpha, puzzle)))  # Extract unique letters from the puzzle\n",
    "    if len(letters) > 10:  # Check if there are more than 10 unique letters\n",
    "        return None\n",
    "\n",
    "    digit_list = list(range(10))  # Create a list of digits from 0 to 9\n",
    "    for perm in get_permutations(digit_list, len(letters)):\n",
    "        assignment = dict(zip(letters, perm))  # Create a dictionary mapping letters to digits\n",
    "        \n",
    "        # Check if the assignment satisfies the constraint that no leading digit is 0\n",
    "        if not all(assignment[word[0]] != 0 for word in puzzle.split() if word.isalpha()):\n",
    "            continue\n",
    "        \n",
    "        if eval_puzzle(puzzle, assignment):  # Check if the assignment satisfies the puzzle\n",
    "            return assignment  # Return the assignment if it satisfies the puzzle\n",
    "    return None  # Return None if no solution is found"
   ]
  },
  {
   "cell_type": "code",
   "execution_count": 7,
   "metadata": {},
   "outputs": [],
   "source": [
    "# Function to evaluate the puzzle with the given solution\n",
    "def eval_puzzle(puzzle, solution):\n",
    "    translation = str.maketrans({k: str(v) for k, v in solution.items()})\n",
    "    translated_puzzle = puzzle.translate(translation)  # Translate the puzzle using the solution\n",
    "\n",
    "    lhs, rhs = translated_puzzle.split(\"==\")  # Split the puzzle into left-hand side and right-hand side\n",
    "    try:\n",
    "        return eval(lhs) == eval(rhs)  # Evaluate and compare the expressions on both sides\n",
    "    except:\n",
    "        return False  # Return False if there's an error during evaluation"
   ]
  },
  {
   "cell_type": "code",
   "execution_count": 8,
   "metadata": {},
   "outputs": [],
   "source": [
    "# Main function to solve the puzzle based on user input and chosen algorithm\n",
    "def solve_puzzle():\n",
    "    puzzle = puzzle_entry.get()  # Get the puzzle input from the entry widget\n",
    "    algorithm_choice = algorithm_var.get()  # Get the chosen algorithm from the combobox\n",
    "\n",
    "    if algorithm_choice == \"Brute Force\":\n",
    "        solution = solve_puzzle_brute_force(puzzle)  # Solve using brute force algorithm\n",
    "    elif algorithm_choice == \"CSP\":\n",
    "        solution = solve_puzzle_csp(puzzle)  # Solve using Constraint Satisfaction Problem\n",
    "    else:\n",
    "        result_var.set(\"Invalid algorithm choice.\")  # Display error message for invalid choice\n",
    "        return\n",
    "\n",
    "    if solution:  # If solution is found\n",
    "        formatted_solution = ', '.join(f'{k}: {v}' for k, v in sorted(solution.items()))\n",
    "        result_var.set(f\"Solution found: {formatted_solution}\")  # Display the solution\n",
    "    else:\n",
    "        result_var.set(\"No solution exists.\")  # Display message for no solution"
   ]
  },
  {
   "cell_type": "markdown",
   "metadata": {},
   "source": [
    "Frontend using tinker library"
   ]
  },
  {
   "cell_type": "code",
   "execution_count": 9,
   "metadata": {},
   "outputs": [],
   "source": [
    "import tkinter as tk\n",
    "from tkinter import ttk\n",
    "\n",
    "# Setting up the GUI\n",
    "root = tk.Tk()  # Create the main window\n",
    "root.title(\"Cryptarithmetic Puzzle Solver\")  # Set window title\n",
    "\n",
    "# Puzzle input\n",
    "puzzle_label = ttk.Label(root, text=\"Enter your puzzle (e.g., 'SEND + MORE == MONEY'):\", width=50)\n",
    "puzzle_label.pack()  # Display puzzle label\n",
    "puzzle_entry = ttk.Entry(root, width=70)  # Create entry widget for puzzle input\n",
    "puzzle_entry.pack()  # Display puzzle entry widget\n",
    "\n",
    "# Algorithm choice\n",
    "algorithm_var = tk.StringVar()  # Variable to store chosen algorithm\n",
    "algorithm_choice_label = ttk.Label(root, text=\"Choose the algorithm:\")\n",
    "algorithm_choice_label.pack()  # Display algorithm choice label\n",
    "algorithm_combobox = ttk.Combobox(root, textvariable=algorithm_var, values=[\"Brute Force\", \"CSP\"], width=20)  # Create combobox for algorithm choice\n",
    "algorithm_combobox.pack()  # Display algorithm choice combobox\n",
    "\n",
    "# Solve button\n",
    "solve_button = ttk.Button(root, text=\"Solve Puzzle\", command=solve_puzzle, width=20)  # Create button to solve puzzle\n",
    "solve_button.pack()  # Display solve button\n",
    "\n",
    "# Result display\n",
    "result_var = tk.StringVar()  # Variable to display result\n",
    "result_label = ttk.Label(root, textvariable=result_var, width=50)  # Create label for displaying result\n",
    "result_label.pack()  # Display result label"
   ]
  },
  {
   "cell_type": "code",
   "execution_count": 10,
   "metadata": {},
   "outputs": [],
   "source": [
    "root.mainloop()  # Start the Tkinter event loop"
   ]
  }
 ],
 "metadata": {
  "kernelspec": {
   "display_name": "Python 3",
   "language": "python",
   "name": "python3"
  },
  "language_info": {
   "codemirror_mode": {
    "name": "ipython",
    "version": 3
   },
   "file_extension": ".py",
   "mimetype": "text/x-python",
   "name": "python",
   "nbconvert_exporter": "python",
   "pygments_lexer": "ipython3",
   "version": "3.10.11"
  }
 },
 "nbformat": 4,
 "nbformat_minor": 2
}
